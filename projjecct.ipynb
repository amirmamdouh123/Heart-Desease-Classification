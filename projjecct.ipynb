{
  "cells": [
    {
      "cell_type": "markdown",
      "metadata": {
        "id": "view-in-github",
        "colab_type": "text"
      },
      "source": [
        "<a href=\"https://colab.research.google.com/github/amirmamdouh123/Heart-Disease-Classification/blob/master/projjecct.ipynb\" target=\"_parent\"><img src=\"https://colab.research.google.com/assets/colab-badge.svg\" alt=\"Open In Colab\"/></a>"
      ]
    },
    {
      "cell_type": "markdown",
      "metadata": {
        "id": "oVRmBo_0nJAt"
      },
      "source": [
        "# This notebook is prepared by ApplAi's Technical And Training Depratment. \n",
        "- Please Don't use it outside the training without asking for permission as it's considered as Violation of Intellectual property rights\n",
        "\n",
        "![ApplAi's Logo](https://media-exp1.licdn.com/dms/image/C4E0BAQHGLGltI2rzuQ/company-logo_200_200/0?e=2159024400&v=beta&t=adq8rNV09dPC6egdJMnfARt6Aq0TC9bSomFvFtm50WM)"
      ]
    },
    {
      "cell_type": "markdown",
      "metadata": {
        "id": "qmNdMvHYnJAy"
      },
      "source": [
        "### Task 1: Importing libraries and Exploring the Dataset.\n",
        "\n",
        "### Task 2: Definining Exploratory Data Analysis with an overview of the whole project .\n",
        "\n",
        "### Task 3: Checking missing values and Outliers & Creating visual methods to analyze the data.\n",
        "\n",
        "### Task 4: creat a model that fits the data\n",
        "\n",
        "### Task 5: creating an accurecy table\n"
      ]
    },
    {
      "cell_type": "markdown",
      "metadata": {
        "id": "wLWo0YZ3nJAz"
      },
      "source": [
        "### "
      ]
    },
    {
      "cell_type": "markdown",
      "metadata": {
        "id": "iQcRX12VnJA0"
      },
      "source": [
        "### Task 1: Importing libraries and Exploring the Dataset."
      ]
    },
    {
      "cell_type": "code",
      "execution_count": 40,
      "metadata": {
        "id": "OudDlQbYnJA0",
        "colab": {
          "base_uri": "https://localhost:8080/"
        },
        "outputId": "953b0ba6-8826-44a2-a6ac-844c9161f31b"
      },
      "outputs": [
        {
          "output_type": "stream",
          "name": "stdout",
          "text": [
            "/content/drive/MyDrive/Projects\n"
          ]
        }
      ],
      "source": [
        "import pandas as pd\n",
        "import numpy as np \n",
        "import matplotlib.pyplot as plt\n",
        "from sklearn.linear_model import LogisticRegression\n",
        "import seaborn as sns \n",
        "from sklearn.model_selection import train_test_split\n",
        "from sklearn.metrics import accuracy_score\n",
        "%cd /content/drive/MyDrive/Projects"
      ]
    },
    {
      "cell_type": "code",
      "source": [],
      "metadata": {
        "id": "i3UXYgFsAwEj"
      },
      "execution_count": 40,
      "outputs": []
    },
    {
      "cell_type": "markdown",
      "metadata": {
        "id": "kY0iwXDenJA2"
      },
      "source": [
        "### Task 2: Definining Exploratory Data Analysis with an overview of the whole project "
      ]
    },
    {
      "cell_type": "code",
      "execution_count": 41,
      "metadata": {
        "id": "9t8pFcJ_nJA3",
        "colab": {
          "base_uri": "https://localhost:8080/"
        },
        "outputId": "90a5433a-aa8d-4b10-b39f-6852aa90f32e"
      },
      "outputs": [
        {
          "output_type": "stream",
          "name": "stdout",
          "text": [
            "<class 'pandas.core.frame.DataFrame'>\n",
            "RangeIndex: 303 entries, 0 to 302\n",
            "Data columns (total 14 columns):\n",
            " #   Column    Non-Null Count  Dtype  \n",
            "---  ------    --------------  -----  \n",
            " 0   age       303 non-null    int64  \n",
            " 1   sex       303 non-null    int64  \n",
            " 2   cp        303 non-null    int64  \n",
            " 3   trestbps  303 non-null    int64  \n",
            " 4   chol      303 non-null    int64  \n",
            " 5   fbs       303 non-null    int64  \n",
            " 6   restecg   303 non-null    int64  \n",
            " 7   thalach   303 non-null    int64  \n",
            " 8   exang     303 non-null    int64  \n",
            " 9   oldpeak   303 non-null    float64\n",
            " 10  slope     303 non-null    int64  \n",
            " 11  ca        303 non-null    int64  \n",
            " 12  thal      303 non-null    int64  \n",
            " 13  target    303 non-null    int64  \n",
            "dtypes: float64(1), int64(13)\n",
            "memory usage: 33.3 KB\n"
          ]
        },
        {
          "output_type": "execute_result",
          "data": {
            "text/plain": [
              "False"
            ]
          },
          "metadata": {},
          "execution_count": 41
        }
      ],
      "source": [
        "df =pd.read_csv(r'heart - heart.csv')\n",
        "df.info()\n",
        "\n",
        "young_pecentage=(df[df['age']<=35]['age'].count())/(df['age'].count())*100\n",
        "\n",
        "female_prone = df[df['sex']==0]['sex'].count()>df[df['sex']==1]['sex'].count()\n",
        "female_prone"
      ]
    },
    {
      "cell_type": "code",
      "execution_count": 42,
      "metadata": {
        "id": "Mo86fj8fnJA3",
        "colab": {
          "base_uri": "https://localhost:8080/"
        },
        "outputId": "ca1acc69-927d-4f47-ab6e-f3bcb4cee7f2"
      },
      "outputs": [
        {
          "output_type": "stream",
          "name": "stdout",
          "text": [
            "age\n",
            "trestbps\n",
            "chol\n",
            "thalach\n"
          ]
        }
      ],
      "source": [
        "list=[]\n",
        "for i in df.columns:\n",
        "    if df[i].max()>10:\n",
        "        print(i)\n",
        "        list.append(i)\n"
      ]
    },
    {
      "cell_type": "code",
      "execution_count": 43,
      "metadata": {
        "id": "gqfef4RCnJA4",
        "colab": {
          "base_uri": "https://localhost:8080/",
          "height": 487
        },
        "outputId": "35abce31-abc0-49ad-e4e2-c8740a2aa5a7"
      },
      "outputs": [
        {
          "output_type": "execute_result",
          "data": {
            "text/plain": [
              "          age  sex  cp  trestbps      chol  fbs  restecg   thalach  exang  \\\n",
              "0    0.441558    1   3     0.255  0.189716    1        0  0.391089      0   \n",
              "1    0.103896    1   2     0.180  0.219858    0        1  0.574257      0   \n",
              "2    0.155844    0   1     0.180  0.138298    0        0  0.500000      0   \n",
              "3    0.350649    1   1     0.130  0.195035    0        1  0.529703      0   \n",
              "4    0.363636    0   0     0.130  0.404255    0        1  0.455446      1   \n",
              "..        ...  ...  ..       ...       ...  ...      ...       ...    ...   \n",
              "298  0.363636    0   0     0.230  0.203901    0        1  0.257426      1   \n",
              "299  0.207792    1   3     0.080  0.244681    0        1  0.301980      0   \n",
              "300  0.506494    1   0     0.250  0.118794    1        1  0.346535      0   \n",
              "301  0.363636    1   0     0.180  0.008865    0        1  0.217822      1   \n",
              "302  0.363636    0   1     0.180  0.195035    0        0  0.509901      0   \n",
              "\n",
              "     oldpeak  slope  ca  thal  target  \n",
              "0        2.3      0   0     1       1  \n",
              "1        3.5      0   0     2       1  \n",
              "2        1.4      2   0     2       1  \n",
              "3        0.8      2   0     2       1  \n",
              "4        0.6      2   0     2       1  \n",
              "..       ...    ...  ..   ...     ...  \n",
              "298      0.2      1   0     3       0  \n",
              "299      1.2      1   0     3       0  \n",
              "300      3.4      1   2     3       0  \n",
              "301      1.2      1   1     3       0  \n",
              "302      0.0      1   1     2       0  \n",
              "\n",
              "[303 rows x 14 columns]"
            ],
            "text/html": [
              "\n",
              "  <div id=\"df-dc006745-1409-4a81-bdef-ea178a088feb\">\n",
              "    <div class=\"colab-df-container\">\n",
              "      <div>\n",
              "<style scoped>\n",
              "    .dataframe tbody tr th:only-of-type {\n",
              "        vertical-align: middle;\n",
              "    }\n",
              "\n",
              "    .dataframe tbody tr th {\n",
              "        vertical-align: top;\n",
              "    }\n",
              "\n",
              "    .dataframe thead th {\n",
              "        text-align: right;\n",
              "    }\n",
              "</style>\n",
              "<table border=\"1\" class=\"dataframe\">\n",
              "  <thead>\n",
              "    <tr style=\"text-align: right;\">\n",
              "      <th></th>\n",
              "      <th>age</th>\n",
              "      <th>sex</th>\n",
              "      <th>cp</th>\n",
              "      <th>trestbps</th>\n",
              "      <th>chol</th>\n",
              "      <th>fbs</th>\n",
              "      <th>restecg</th>\n",
              "      <th>thalach</th>\n",
              "      <th>exang</th>\n",
              "      <th>oldpeak</th>\n",
              "      <th>slope</th>\n",
              "      <th>ca</th>\n",
              "      <th>thal</th>\n",
              "      <th>target</th>\n",
              "    </tr>\n",
              "  </thead>\n",
              "  <tbody>\n",
              "    <tr>\n",
              "      <th>0</th>\n",
              "      <td>0.441558</td>\n",
              "      <td>1</td>\n",
              "      <td>3</td>\n",
              "      <td>0.255</td>\n",
              "      <td>0.189716</td>\n",
              "      <td>1</td>\n",
              "      <td>0</td>\n",
              "      <td>0.391089</td>\n",
              "      <td>0</td>\n",
              "      <td>2.3</td>\n",
              "      <td>0</td>\n",
              "      <td>0</td>\n",
              "      <td>1</td>\n",
              "      <td>1</td>\n",
              "    </tr>\n",
              "    <tr>\n",
              "      <th>1</th>\n",
              "      <td>0.103896</td>\n",
              "      <td>1</td>\n",
              "      <td>2</td>\n",
              "      <td>0.180</td>\n",
              "      <td>0.219858</td>\n",
              "      <td>0</td>\n",
              "      <td>1</td>\n",
              "      <td>0.574257</td>\n",
              "      <td>0</td>\n",
              "      <td>3.5</td>\n",
              "      <td>0</td>\n",
              "      <td>0</td>\n",
              "      <td>2</td>\n",
              "      <td>1</td>\n",
              "    </tr>\n",
              "    <tr>\n",
              "      <th>2</th>\n",
              "      <td>0.155844</td>\n",
              "      <td>0</td>\n",
              "      <td>1</td>\n",
              "      <td>0.180</td>\n",
              "      <td>0.138298</td>\n",
              "      <td>0</td>\n",
              "      <td>0</td>\n",
              "      <td>0.500000</td>\n",
              "      <td>0</td>\n",
              "      <td>1.4</td>\n",
              "      <td>2</td>\n",
              "      <td>0</td>\n",
              "      <td>2</td>\n",
              "      <td>1</td>\n",
              "    </tr>\n",
              "    <tr>\n",
              "      <th>3</th>\n",
              "      <td>0.350649</td>\n",
              "      <td>1</td>\n",
              "      <td>1</td>\n",
              "      <td>0.130</td>\n",
              "      <td>0.195035</td>\n",
              "      <td>0</td>\n",
              "      <td>1</td>\n",
              "      <td>0.529703</td>\n",
              "      <td>0</td>\n",
              "      <td>0.8</td>\n",
              "      <td>2</td>\n",
              "      <td>0</td>\n",
              "      <td>2</td>\n",
              "      <td>1</td>\n",
              "    </tr>\n",
              "    <tr>\n",
              "      <th>4</th>\n",
              "      <td>0.363636</td>\n",
              "      <td>0</td>\n",
              "      <td>0</td>\n",
              "      <td>0.130</td>\n",
              "      <td>0.404255</td>\n",
              "      <td>0</td>\n",
              "      <td>1</td>\n",
              "      <td>0.455446</td>\n",
              "      <td>1</td>\n",
              "      <td>0.6</td>\n",
              "      <td>2</td>\n",
              "      <td>0</td>\n",
              "      <td>2</td>\n",
              "      <td>1</td>\n",
              "    </tr>\n",
              "    <tr>\n",
              "      <th>...</th>\n",
              "      <td>...</td>\n",
              "      <td>...</td>\n",
              "      <td>...</td>\n",
              "      <td>...</td>\n",
              "      <td>...</td>\n",
              "      <td>...</td>\n",
              "      <td>...</td>\n",
              "      <td>...</td>\n",
              "      <td>...</td>\n",
              "      <td>...</td>\n",
              "      <td>...</td>\n",
              "      <td>...</td>\n",
              "      <td>...</td>\n",
              "      <td>...</td>\n",
              "    </tr>\n",
              "    <tr>\n",
              "      <th>298</th>\n",
              "      <td>0.363636</td>\n",
              "      <td>0</td>\n",
              "      <td>0</td>\n",
              "      <td>0.230</td>\n",
              "      <td>0.203901</td>\n",
              "      <td>0</td>\n",
              "      <td>1</td>\n",
              "      <td>0.257426</td>\n",
              "      <td>1</td>\n",
              "      <td>0.2</td>\n",
              "      <td>1</td>\n",
              "      <td>0</td>\n",
              "      <td>3</td>\n",
              "      <td>0</td>\n",
              "    </tr>\n",
              "    <tr>\n",
              "      <th>299</th>\n",
              "      <td>0.207792</td>\n",
              "      <td>1</td>\n",
              "      <td>3</td>\n",
              "      <td>0.080</td>\n",
              "      <td>0.244681</td>\n",
              "      <td>0</td>\n",
              "      <td>1</td>\n",
              "      <td>0.301980</td>\n",
              "      <td>0</td>\n",
              "      <td>1.2</td>\n",
              "      <td>1</td>\n",
              "      <td>0</td>\n",
              "      <td>3</td>\n",
              "      <td>0</td>\n",
              "    </tr>\n",
              "    <tr>\n",
              "      <th>300</th>\n",
              "      <td>0.506494</td>\n",
              "      <td>1</td>\n",
              "      <td>0</td>\n",
              "      <td>0.250</td>\n",
              "      <td>0.118794</td>\n",
              "      <td>1</td>\n",
              "      <td>1</td>\n",
              "      <td>0.346535</td>\n",
              "      <td>0</td>\n",
              "      <td>3.4</td>\n",
              "      <td>1</td>\n",
              "      <td>2</td>\n",
              "      <td>3</td>\n",
              "      <td>0</td>\n",
              "    </tr>\n",
              "    <tr>\n",
              "      <th>301</th>\n",
              "      <td>0.363636</td>\n",
              "      <td>1</td>\n",
              "      <td>0</td>\n",
              "      <td>0.180</td>\n",
              "      <td>0.008865</td>\n",
              "      <td>0</td>\n",
              "      <td>1</td>\n",
              "      <td>0.217822</td>\n",
              "      <td>1</td>\n",
              "      <td>1.2</td>\n",
              "      <td>1</td>\n",
              "      <td>1</td>\n",
              "      <td>3</td>\n",
              "      <td>0</td>\n",
              "    </tr>\n",
              "    <tr>\n",
              "      <th>302</th>\n",
              "      <td>0.363636</td>\n",
              "      <td>0</td>\n",
              "      <td>1</td>\n",
              "      <td>0.180</td>\n",
              "      <td>0.195035</td>\n",
              "      <td>0</td>\n",
              "      <td>0</td>\n",
              "      <td>0.509901</td>\n",
              "      <td>0</td>\n",
              "      <td>0.0</td>\n",
              "      <td>1</td>\n",
              "      <td>1</td>\n",
              "      <td>2</td>\n",
              "      <td>0</td>\n",
              "    </tr>\n",
              "  </tbody>\n",
              "</table>\n",
              "<p>303 rows × 14 columns</p>\n",
              "</div>\n",
              "      <button class=\"colab-df-convert\" onclick=\"convertToInteractive('df-dc006745-1409-4a81-bdef-ea178a088feb')\"\n",
              "              title=\"Convert this dataframe to an interactive table.\"\n",
              "              style=\"display:none;\">\n",
              "        \n",
              "  <svg xmlns=\"http://www.w3.org/2000/svg\" height=\"24px\"viewBox=\"0 0 24 24\"\n",
              "       width=\"24px\">\n",
              "    <path d=\"M0 0h24v24H0V0z\" fill=\"none\"/>\n",
              "    <path d=\"M18.56 5.44l.94 2.06.94-2.06 2.06-.94-2.06-.94-.94-2.06-.94 2.06-2.06.94zm-11 1L8.5 8.5l.94-2.06 2.06-.94-2.06-.94L8.5 2.5l-.94 2.06-2.06.94zm10 10l.94 2.06.94-2.06 2.06-.94-2.06-.94-.94-2.06-.94 2.06-2.06.94z\"/><path d=\"M17.41 7.96l-1.37-1.37c-.4-.4-.92-.59-1.43-.59-.52 0-1.04.2-1.43.59L10.3 9.45l-7.72 7.72c-.78.78-.78 2.05 0 2.83L4 21.41c.39.39.9.59 1.41.59.51 0 1.02-.2 1.41-.59l7.78-7.78 2.81-2.81c.8-.78.8-2.07 0-2.86zM5.41 20L4 18.59l7.72-7.72 1.47 1.35L5.41 20z\"/>\n",
              "  </svg>\n",
              "      </button>\n",
              "      \n",
              "  <style>\n",
              "    .colab-df-container {\n",
              "      display:flex;\n",
              "      flex-wrap:wrap;\n",
              "      gap: 12px;\n",
              "    }\n",
              "\n",
              "    .colab-df-convert {\n",
              "      background-color: #E8F0FE;\n",
              "      border: none;\n",
              "      border-radius: 50%;\n",
              "      cursor: pointer;\n",
              "      display: none;\n",
              "      fill: #1967D2;\n",
              "      height: 32px;\n",
              "      padding: 0 0 0 0;\n",
              "      width: 32px;\n",
              "    }\n",
              "\n",
              "    .colab-df-convert:hover {\n",
              "      background-color: #E2EBFA;\n",
              "      box-shadow: 0px 1px 2px rgba(60, 64, 67, 0.3), 0px 1px 3px 1px rgba(60, 64, 67, 0.15);\n",
              "      fill: #174EA6;\n",
              "    }\n",
              "\n",
              "    [theme=dark] .colab-df-convert {\n",
              "      background-color: #3B4455;\n",
              "      fill: #D2E3FC;\n",
              "    }\n",
              "\n",
              "    [theme=dark] .colab-df-convert:hover {\n",
              "      background-color: #434B5C;\n",
              "      box-shadow: 0px 1px 3px 1px rgba(0, 0, 0, 0.15);\n",
              "      filter: drop-shadow(0px 1px 2px rgba(0, 0, 0, 0.3));\n",
              "      fill: #FFFFFF;\n",
              "    }\n",
              "  </style>\n",
              "\n",
              "      <script>\n",
              "        const buttonEl =\n",
              "          document.querySelector('#df-dc006745-1409-4a81-bdef-ea178a088feb button.colab-df-convert');\n",
              "        buttonEl.style.display =\n",
              "          google.colab.kernel.accessAllowed ? 'block' : 'none';\n",
              "\n",
              "        async function convertToInteractive(key) {\n",
              "          const element = document.querySelector('#df-dc006745-1409-4a81-bdef-ea178a088feb');\n",
              "          const dataTable =\n",
              "            await google.colab.kernel.invokeFunction('convertToInteractive',\n",
              "                                                     [key], {});\n",
              "          if (!dataTable) return;\n",
              "\n",
              "          const docLinkHtml = 'Like what you see? Visit the ' +\n",
              "            '<a target=\"_blank\" href=https://colab.research.google.com/notebooks/data_table.ipynb>data table notebook</a>'\n",
              "            + ' to learn more about interactive tables.';\n",
              "          element.innerHTML = '';\n",
              "          dataTable['output_type'] = 'display_data';\n",
              "          await google.colab.output.renderOutput(dataTable, element);\n",
              "          const docLink = document.createElement('div');\n",
              "          docLink.innerHTML = docLinkHtml;\n",
              "          element.appendChild(docLink);\n",
              "        }\n",
              "      </script>\n",
              "    </div>\n",
              "  </div>\n",
              "  "
            ]
          },
          "metadata": {},
          "execution_count": 43
        }
      ],
      "source": [
        "for i in list:\n",
        "    df[i]=df[i].apply(lambda x: (x-df[i].min())/df[i].max())\n",
        "\n",
        "df\n"
      ]
    },
    {
      "cell_type": "markdown",
      "metadata": {
        "id": "rHUfsK_5nJA6"
      },
      "source": [
        "### Task 3: Checking missing values and Outliers & Creating visual methods to analyze the data."
      ]
    },
    {
      "cell_type": "code",
      "execution_count": 44,
      "metadata": {
        "id": "k_OYju-znJA7",
        "colab": {
          "base_uri": "https://localhost:8080/",
          "height": 317
        },
        "outputId": "7b3b13e6-51f7-4d62-91a4-6ad630bb2d81"
      },
      "outputs": [
        {
          "output_type": "execute_result",
          "data": {
            "text/plain": [
              "<matplotlib.axes._subplots.AxesSubplot at 0x7f79d2e52550>"
            ]
          },
          "metadata": {},
          "execution_count": 44
        },
        {
          "output_type": "display_data",
          "data": {
            "text/plain": [
              "<Figure size 432x288 with 2 Axes>"
            ],
            "image/png": "[encoded data removed]"
          },
          "metadata": {
            "needs_background": "light"
          }
        }
      ],
      "source": [
        "sns.heatmap(df.corr(), annot=True ,linewidth=0.5,annot_kws={'size':5})\n"
      ]
    },
    {
      "cell_type": "code",
      "execution_count": 45,
      "metadata": {
        "id": "M_5Dtb2KAmvy"
      },
      "outputs": [],
      "source": [
        "models ={}\n"
      ]
    },
    {
      "cell_type": "markdown",
      "metadata": {
        "id": "l7H8c8RlnJA_"
      },
      "source": [
        "### Task 4: creat a model that fits the data"
      ]
    },
    {
      "cell_type": "code",
      "execution_count": 46,
      "metadata": {
        "id": "AIijpvD2npZs"
      },
      "outputs": [],
      "source": [
        "X= df.iloc[:,:-1]\n",
        "Y= df.iloc[:,-1]\n",
        "\n",
        "models ={}\n",
        "\n",
        "x_train ,x_test,y_train,y_test= train_test_split(X,Y,test_size=1/5,random_state=0)\n",
        "\n",
        "model= LogisticRegression()\n",
        "model.fit(x_train,y_train)\n",
        "y_pred= model.predict(x_test)\n",
        "\n",
        "Logistic_accuray=accuracy_score(y_pred=y_pred,y_true=y_test)\n"
      ]
    },
    {
      "cell_type": "markdown",
      "metadata": {
        "id": "or5AuBLGnJBC"
      },
      "source": [
        "### Task 5: creating an accurecy table"
      ]
    },
    {
      "cell_type": "code",
      "execution_count": 47,
      "metadata": {
        "id": "lvKntEClAmv1"
      },
      "outputs": [],
      "source": [
        "models['Losistic Model']=Logistic_accuray*100\n"
      ]
    },
    {
      "cell_type": "code",
      "execution_count": 48,
      "metadata": {
        "id": "ahqgfvwdnJBF",
        "colab": {
          "base_uri": "https://localhost:8080/"
        },
        "outputId": "e94ef024-0896-4a41-abcf-fc43691bebf1"
      },
      "outputs": [
        {
          "output_type": "stream",
          "name": "stdout",
          "text": [
            "              precision    recall  f1-score   support\n",
            "\n",
            "           0       0.78      0.88      0.82        24\n",
            "           1       0.91      0.84      0.87        37\n",
            "\n",
            "    accuracy                           0.85        61\n",
            "   macro avg       0.84      0.86      0.85        61\n",
            "weighted avg       0.86      0.85      0.85        61\n",
            "\n"
          ]
        }
      ],
      "source": [
        "from sklearn.metrics import classification_report\n",
        "\n",
        "report= classification_report(y_pred,y_test)\n",
        "print (report)"
      ]
    },
    {
      "cell_type": "code",
      "execution_count": 49,
      "metadata": {
        "id": "07ivgSc2Amv3"
      },
      "outputs": [],
      "source": [
        "from sklearn.neighbors import KNeighborsClassifier\n",
        "\n",
        "knn = KNeighborsClassifier(n_neighbors=5)\n",
        "knn.fit(x_train,y_train)\n",
        "KNN_pred=knn.predict(x_test)\n",
        "\n",
        "KNN_accuray=accuracy_score(y_pred=KNN_pred,y_true=y_test)\n",
        "\n",
        "models['KNN Model']=KNN_accuray*100\n",
        "\n"
      ]
    },
    {
      "cell_type": "code",
      "execution_count": 50,
      "metadata": {
        "colab": {
          "base_uri": "https://localhost:8080/",
          "height": 282
        },
        "id": "93sHGZ1sAmv3",
        "outputId": "2b3f1492-8162-4784-9e37-4696b3612ddd"
      },
      "outputs": [
        {
          "output_type": "execute_result",
          "data": {
            "text/plain": [
              "[<matplotlib.lines.Line2D at 0x7f79d3d77430>]"
            ]
          },
          "metadata": {},
          "execution_count": 50
        },
        {
          "output_type": "display_data",
          "data": {
            "text/plain": [
              "<Figure size 432x288 with 1 Axes>"
            ],
            "image/png": "[encoded data removed]"
          },
          "metadata": {
            "needs_background": "light"
          }
        }
      ],
      "source": [
        "from sklearn.cluster import KMeans\n",
        "\n",
        "K=range(2,12)\n",
        "wss=[]\n",
        "for k in K:\n",
        "    kmeans = KMeans(n_clusters=k, init='random', max_iter=300,random_state=0)\n",
        "    kmeans.fit(X)\n",
        "    wss_iter = kmeans.inertia_\n",
        "    wss.append(wss_iter)\n",
        "plt.plot(K,wss)\n"
      ]
    },
    {
      "cell_type": "code",
      "execution_count": 51,
      "metadata": {
        "id": "2P-Pekv2Amv4"
      },
      "outputs": [],
      "source": [
        "kmeans= KMeans(n_clusters=2,random_state=0)\n",
        "means_pred= kmeans.fit_predict(X)\n",
        "# can't draw because it's more than 2 dimensions\n",
        "Kmeans_accracy =accuracy_score(y_pred=means_pred,y_true=Y)\n",
        "\n",
        "models['Kmeans Model']=Kmeans_accracy*100\n",
        "\n"
      ]
    },
    {
      "cell_type": "code",
      "execution_count": 52,
      "metadata": {
        "id": "-pmQtEi-Amv4"
      },
      "outputs": [],
      "source": [
        "from sklearn.cluster import DBSCAN\n",
        "\n",
        "DBSCAN_pred=DBSCAN(eps=2 , min_samples=5).fit_predict(X)\n",
        "# can't draw because it's more than 2 dimensions\n",
        "DBSCAN_accuracy=accuracy_score(y_pred=DBSCAN_pred,y_true=Y)\n",
        "models['DBSCAN Model']=DBSCAN_accuracy*100\n",
        "\n"
      ]
    },
    {
      "cell_type": "code",
      "execution_count": 53,
      "metadata": {
        "id": "U8Dc4zOxAmv5"
      },
      "outputs": [],
      "source": [
        "from sklearn import svm\n",
        "\n",
        "C = 0.5  # SVM regularization parameter\n",
        "Poly_SVC_Model = svm.SVC(kernel='poly', degree=2, C=C).fit(x_train, y_train)\n",
        "prediction = Poly_SVC_Model.predict(x_test)\n",
        "svm_accuracy=accuracy_score(y_test, prediction)\n",
        "models['SVM Model']=svm_accuracy*100\n",
        "\n",
        "\n"
      ]
    },
    {
      "cell_type": "code",
      "execution_count": 53,
      "metadata": {
        "id": "B5qEHsPFAmv5"
      },
      "outputs": [],
      "source": []
    },
    {
      "cell_type": "code",
      "execution_count": 54,
      "metadata": {
        "id": "1IHStwFKAmv6"
      },
      "outputs": [],
      "source": [
        "#so the best model that fitted in our heart desease dataset is (KNN Model and SVM model)with the same accuracy\n",
        "# followed by Logistic regression.\n"
      ]
    },
    {
      "cell_type": "code",
      "execution_count": 54,
      "metadata": {
        "id": "73tWaNSKAmv6"
      },
      "outputs": [],
      "source": [
        "\n"
      ]
    },
    {
      "cell_type": "code",
      "execution_count": 54,
      "metadata": {
        "id": "W0o_n-deAmv6"
      },
      "outputs": [],
      "source": []
    },
    {
      "cell_type": "code",
      "execution_count": 54,
      "metadata": {
        "id": "VoLA0V6VAmv6"
      },
      "outputs": [],
      "source": []
    },
    {
      "cell_type": "code",
      "execution_count": 54,
      "metadata": {
        "id": "HqX3x3hdAmv7"
      },
      "outputs": [],
      "source": []
    },
    {
      "cell_type": "code",
      "execution_count": 54,
      "metadata": {
        "id": "BkT83zDEAmv7"
      },
      "outputs": [],
      "source": []
    },
    {
      "cell_type": "code",
      "execution_count": 54,
      "metadata": {
        "id": "lxEorn5cAmv7"
      },
      "outputs": [],
      "source": []
    },
    {
      "cell_type": "code",
      "execution_count": 55,
      "metadata": {
        "colab": {
          "base_uri": "https://localhost:8080/",
          "height": 295
        },
        "id": "FVws659WAmv7",
        "outputId": "6e3745b3-6edb-458b-be15-717bd6963a8d"
      },
      "outputs": [
        {
          "output_type": "display_data",
          "data": {
            "text/plain": [
              "<Figure size 432x288 with 1 Axes>"
            ],
            "image/png": "[encoded data removed]"
          },
          "metadata": {
            "needs_background": "light"
          }
        }
      ],
      "source": [
        "# Create the plot\n",
        "sns.scatterplot(x='age', y='exang', data=df)\n",
        " \n",
        "# Add labels and title\n",
        "plt.xlabel('Age')\n",
        "plt.ylabel('Max Heart Rate')\n",
        "plt.title('Heart Dataset Scatter Plot')\n",
        " \n",
        "# Show plot\n",
        "plt.show()"
      ]
    },
    {
      "cell_type": "code",
      "execution_count": 56,
      "metadata": {
        "colab": {
          "base_uri": "https://localhost:8080/",
          "height": 295
        },
        "id": "SDntU4RtAmv8",
        "outputId": "e0ba0e8d-bf88-45b2-cf02-224a7c1e08a3"
      },
      "outputs": [
        {
          "output_type": "display_data",
          "data": {
            "text/plain": [
              "<Figure size 432x288 with 1 Axes>"
            ],
            "image/png": "[encoded data removed]"
          },
          "metadata": {
            "needs_background": "light"
          }
        }
      ],
      "source": [
        "# Create the plot\n",
        "sns.scatterplot(x='age', y='oldpeak', data=df)\n",
        " \n",
        "# Add labels and title\n",
        "plt.xlabel('Age')\n",
        "plt.ylabel('Max Heart Rate')\n",
        "plt.title('Heart Dataset Scatter Plot')\n",
        " \n",
        "# Show plot\n",
        "plt.show()"
      ]
    },
    {
      "cell_type": "code",
      "execution_count": 57,
      "metadata": {
        "colab": {
          "base_uri": "https://localhost:8080/",
          "height": 295
        },
        "id": "hOG4k_WTAmv8",
        "outputId": "eff10df9-1ecf-4a62-9079-ed39075c4ae2"
      },
      "outputs": [
        {
          "output_type": "display_data",
          "data": {
            "text/plain": [
              "<Figure size 432x288 with 1 Axes>"
            ],
            "image/png": "[encoded data removed]"
          },
          "metadata": {
            "needs_background": "light"
          }
        }
      ],
      "source": [
        "# Create the plot\n",
        "sns.scatterplot(x='age', y='slope', data=df)\n",
        " \n",
        "# Add labels and title\n",
        "plt.xlabel('Age')\n",
        "plt.ylabel('Max Heart Rate')\n",
        "plt.title('Heart Dataset Scatter Plot')\n",
        " \n",
        "# Show plot\n",
        "plt.show()"
      ]
    },
    {
      "cell_type": "code",
      "execution_count": 58,
      "metadata": {
        "colab": {
          "base_uri": "https://localhost:8080/",
          "height": 295
        },
        "id": "GKEyjcABAmv8",
        "outputId": "cdd39683-29a7-4d7f-ef13-26cde59ab06a"
      },
      "outputs": [
        {
          "output_type": "display_data",
          "data": {
            "text/plain": [
              "<Figure size 432x288 with 1 Axes>"
            ],
            "image/png": "[encoded data removed]"
          },
          "metadata": {
            "needs_background": "light"
          }
        }
      ],
      "source": [
        "# Create the plot\n",
        "sns.scatterplot(x='age', y='thal', data=df)\n",
        " \n",
        "# Add labels and title\n",
        "plt.xlabel('Age')\n",
        "plt.ylabel('Max Heart Rate')\n",
        "plt.title('Heart Dataset Scatter Plot')\n",
        " \n",
        "# Show plot\n",
        "plt.show()"
      ]
    },
    {
      "cell_type": "code",
      "execution_count": 59,
      "metadata": {
        "colab": {
          "base_uri": "https://localhost:8080/",
          "height": 295
        },
        "id": "-W4r9e1WAmv8",
        "outputId": "0394bef5-ddfa-48ff-8ec5-08d25984fc1c"
      },
      "outputs": [
        {
          "output_type": "display_data",
          "data": {
            "text/plain": [
              "<Figure size 432x288 with 1 Axes>"
            ],
            "image/png": "[encoded data removed]"
          },
          "metadata": {
            "needs_background": "light"
          }
        }
      ],
      "source": [
        "# Create the plot\n",
        "sns.scatterplot(x='age', y='target', data=df)\n",
        " \n",
        "# Add labels and title\n",
        "plt.xlabel('Age')\n",
        "plt.ylabel('Max Heart Rate')\n",
        "plt.title('Heart Dataset Scatter Plot')\n",
        " \n",
        "# Show plot\n",
        "plt.show()"
      ]
    },
    {
      "cell_type": "code",
      "execution_count": 60,
      "metadata": {
        "colab": {
          "base_uri": "https://localhost:8080/",
          "height": 295
        },
        "id": "1g0L4GEzAmv9",
        "outputId": "523f980f-3751-4bb2-f4a6-7ac13942b2b0"
      },
      "outputs": [
        {
          "output_type": "display_data",
          "data": {
            "text/plain": [
              "<Figure size 432x288 with 1 Axes>"
            ],
            "image/png": "[encoded data removed]"
          },
          "metadata": {
            "needs_background": "light"
          }
        }
      ],
      "source": [
        "\n",
        "# Load the heart dataset\n",
        "heart = pd.read_csv(\"heart - heart.csv\")\n",
        " \n",
        "# Create the plot\n",
        "sns.barplot(x='sex', y='thalach', data=heart)\n",
        " \n",
        "# Add labels and title\n",
        "plt.xlabel('Sex')\n",
        "plt.ylabel('Max Heart Rate')\n",
        "plt.title('Heart Dataset Bar Plot')\n",
        " \n",
        "# Show plot\n",
        "plt.show()"
      ]
    },
    {
      "cell_type": "code",
      "execution_count": 61,
      "metadata": {
        "colab": {
          "base_uri": "https://localhost:8080/",
          "height": 295
        },
        "id": "C72zEh8FAmv9",
        "outputId": "e42ea099-e07a-4352-84e2-49829b045de5"
      },
      "outputs": [
        {
          "output_type": "display_data",
          "data": {
            "text/plain": [
              "<Figure size 432x288 with 1 Axes>"
            ],
            "image/png": "[encoded data removed]"
          },
          "metadata": {
            "needs_background": "light"
          }
        }
      ],
      "source": [
        "\n",
        "# Create the plot\n",
        "plt.hist(heart['age'], bins=10, edgecolor='black')\n",
        " \n",
        "# Add labels and title\n",
        "plt.xlabel('Age')\n",
        "plt.ylabel('Frequency')\n",
        "plt.title('Heart Dataset Histogram')\n",
        " \n",
        "# Show plot\n",
        "plt.show()\n"
      ]
    },
    {
      "cell_type": "code",
      "execution_count": 62,
      "metadata": {
        "colab": {
          "base_uri": "https://localhost:8080/",
          "height": 295
        },
        "id": "HNK8n0yHAmv9",
        "outputId": "1d1989fc-074e-4363-c51e-4e04d6c8afff"
      },
      "outputs": [
        {
          "output_type": "display_data",
          "data": {
            "text/plain": [
              "<Figure size 432x288 with 1 Axes>"
            ],
            "image/png": "[encoded data removed]"
          },
          "metadata": {
            "needs_background": "light"
          }
        }
      ],
      "source": [
        "\n",
        "# Create the plot\n",
        "sns.boxplot(x='target', y='thalach', data=heart)\n",
        " \n",
        "# Add labels and title\n",
        "plt.xlabel('Target (Heart Disease)')\n",
        "plt.ylabel('Max Heart Rate')\n",
        "plt.title('Heart Dataset Box Plot')\n",
        " \n",
        "# Show plot\n",
        "plt.show()\n"
      ]
    },
    {
      "cell_type": "code",
      "execution_count": 63,
      "metadata": {
        "id": "lUGabpmMAmwA"
      },
      "outputs": [],
      "source": [
        "from sklearn.ensemble import RandomForestClassifier\n",
        "\n",
        "rfc = RandomForestClassifier(n_estimators=100)\n",
        "\n",
        "# Fit the model on the training data\n",
        "rfc.fit(x_train, y_train)\n",
        "\n",
        "# Predict the target values for the test data\n",
        "rfc_pred = rfc.predict(x_test)\n",
        "\n",
        "# Evaluate the model using accuracy metrics\n",
        "rfc = rfc.score(x_test, y_test)\n",
        "models['rfc Model']=rfc*100\n",
        "\n"
      ]
    },
    {
      "cell_type": "code",
      "execution_count": 63,
      "metadata": {
        "id": "2Zq2-0owAmwA"
      },
      "outputs": [],
      "source": []
    },
    {
      "cell_type": "code",
      "execution_count": 64,
      "metadata": {
        "id": "SbQpAmo7AmwA"
      },
      "outputs": [],
      "source": [
        "# Import necessary libraries\n",
        "from sklearn.neural_network import MLPClassifier\n",
        "\n",
        "# Initialize the MLP model\n",
        "mlp = MLPClassifier(hidden_layer_sizes=(100,100,100), max_iter=500, solver='adam', random_state=42)\n",
        "\n",
        "# Fit the model to the training data\n",
        "mlp.fit(x_train, y_train)\n",
        "\n",
        "# Make predictions on the test data\n",
        "mlp_pred = mlp.predict(x_test)\n",
        "\n",
        "# Evaluate the model using accuracy score\n",
        "mlp_acc = accuracy_score(y_true=y_test, y_pred=mlp_pred)\n",
        "models['mlp Model']=mlp_acc*100\n"
      ]
    },
    {
      "cell_type": "code",
      "execution_count": 65,
      "metadata": {
        "id": "3nRpFwKsAmwA"
      },
      "outputs": [],
      "source": [
        "# Import necessary libraries\n",
        "from sklearn.tree import DecisionTreeClassifier\n",
        "\n",
        "\n",
        "\n",
        "# Initialize the Decision Tree model\n",
        "dt = DecisionTreeClassifier()\n",
        "\n",
        "# Fit the model to the training data\n",
        "dt.fit(x_train, y_train)\n",
        "\n",
        "# Make predictions on the test data\n",
        "dt_pred = dt.predict(x_test)\n",
        "dt_acc = accuracy_score(y_true=y_test, y_pred=dt_pred)\n",
        "models['dt Model']=dt_acc*100\n",
        "# Evaluate the model using accuracy score\n"
      ]
    },
    {
      "cell_type": "code",
      "execution_count": 66,
      "metadata": {
        "id": "VWBgs0jOAmwB"
      },
      "outputs": [],
      "source": [
        "# Import necessary libraries\n",
        "from sklearn.ensemble import GradientBoostingClassifier\n",
        "\n",
        "\n",
        "gbc = GradientBoostingClassifier(random_state=42)\n",
        "\n",
        "# Fit the model to the training data\n",
        "gbc.fit(x_train, y_train)\n",
        "\n",
        "# Make predictions on the test data\n",
        "y_pred = gbc.predict(x_test)\n",
        "\n",
        "# Evaluate the model using accuracy score\n",
        "gbc_acc = accuracy_score(y_true=y_test, y_pred=y_pred)\n",
        "models['gbc Model']=gbc_acc*100\n",
        "\n"
      ]
    },
    {
      "cell_type": "code",
      "execution_count": 69,
      "metadata": {
        "colab": {
          "base_uri": "https://localhost:8080/"
        },
        "id": "RclaNUNBAmwB",
        "outputId": "042b87e2-0c15-4136-fc49-158efa37818a"
      },
      "outputs": [
        {
          "output_type": "stream",
          "name": "stdout",
          "text": [
            "The accuracy of rfc Model is : 86.89%\n",
            "The accuracy of mlp Model is : 86.89%\n",
            "The accuracy of gbc Model is : 80.33%\n",
            "The accuracy of dt Model is : 78.69%\n",
            "The accuracy of SVM Model is : 86.89%\n",
            "The accuracy of Losistic Model is : 85.25%\n",
            "The accuracy of Kmeans Model is : 79.54%\n",
            "The accuracy of KNN Model is : 86.89%\n",
            "The accuracy of DBSCAN Model is : 43.89%\n",
            "percentage of younger people are prone to be diagnosed with heart disease: 2.31% \n",
            "women less prone to heart diseases than men\n"
          ]
        }
      ],
      "source": [
        "M =sorted(models,reverse=True)\n",
        "for i in M:\n",
        "    print('The accuracy of {} is : {:.2f}%'.format(i,models[i])) \n",
        "\n",
        "\n",
        "print('percentage of younger people are prone to be diagnosed with heart disease: {:.2f}% '.format(young_pecentage))\n",
        "\n",
        "if(female_prone):\n",
        "  print('women are more prone to heart diseases than men')\n",
        "else:\n",
        "  print('women less prone to heart diseases than men')\n",
        "\n"
      ]
    },
    {
      "cell_type": "code",
      "source": [
        "#as a preprocessing the data was totally ready but we needed to do normalizatoin only for features whose values with large range\n",
        "#so the best model that fitted in our heart desease dataset is (KNN Model and SVM model)with the same accuracy\n",
        "# followed by Logistic regression."
      ],
      "metadata": {
        "id": "WAymWtVsB8Xb"
      },
      "execution_count": 68,
      "outputs": []
    }
  ],
  "metadata": {
    "colab": {
      "provenance": [],
      "toc_visible": true,
      "include_colab_link": true
    },
    "kernelspec": {
      "display_name": "Python 3 (ipykernel)",
      "language": "python",
      "name": "python3"
    },
    "language_info": {
      "codemirror_mode": {
        "name": "ipython",
        "version": 3
      },
      "file_extension": ".py",
      "mimetype": "text/x-python",
      "name": "python",
      "nbconvert_exporter": "python",
      "pygments_lexer": "ipython3",
      "version": "3.9.12"
    },
    "vscode": {
      "interpreter": {
        "hash": "e89691e4663d647bc11c8a9859f5cdd56224e794f653bdd6c406cd9780fe241b"
      }
    }
  },
  "nbformat": 4,
  "nbformat_minor": 0
}